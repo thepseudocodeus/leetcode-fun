{
 "cells": [
  {
   "cell_type": "code",
   "metadata": {},
   "source": [
    "import polars as pl\n",
    "df = pl.DataFrame({\"UserId\": [1,2], \"Numbers\": [\"1;2;3\", \"5;6;7\"]})\n",
    "def normalize(s): return [int(x) for x in s.split(\";\")]\n",
    "df = df.with_columns(pl.col(\"Numbers\").map_elements(normalize).alias(\"Numbers_norm\"))\n",
    "assert all(isinstance(x, list) for x in df[\"Numbers_norm\"]), \"Normalization failed\"\n",
    "df"
   ]
  }
 ],
 "metadata": {
  "kernelspec": {
   "display_name": "Python 3",
   "language": "python",
   "name": "python3"
  }
 },
 "nbformat": 4,
 "nbformat_minor": 2
}
