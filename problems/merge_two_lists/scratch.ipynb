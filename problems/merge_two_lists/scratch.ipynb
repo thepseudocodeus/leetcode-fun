{
 "cells": [
  {
   "cell_type": "code",
   "execution_count": null,
   "id": "f07c1907",
   "metadata": {},
   "outputs": [],
   "source": [
    "# META TOOLS\n",
    "\n",
    "def _get_size(obj: any) -> any:\n",
    "    \"\"\"Helper function that guarantees parent contract.\"\"\"\n",
    "    \n",
    "\n",
    "def get_size(object: any) -> int:\n",
    "    return"
   ]
  },
  {
   "cell_type": "code",
   "execution_count": null,
   "id": "7d757463",
   "metadata": {},
   "outputs": [],
   "source": [
    "from typing import Optional, Callable\n",
    "from dataclasses import dataclass"
   ]
  },
  {
   "cell_type": "markdown",
   "id": "7e1a6645",
   "metadata": {},
   "source": [
    "# Problem Definition\n",
    "\n",
    "## Data From Problem:\n",
    "    - Two linked lists (LL)\n",
    "    - LL contents are integers\n",
    "    - Integers are sorted\n",
    "    - We are provided the heads of these linked lists\n",
    "    - Contents of linked lists are integers\n",
    "    - Examples (E) provided:\n",
    "        - E1:\n",
    "            - Input: list1 = [1, 2, 4], list2 = [1, 3, 4]\n",
    "            - Output: [1,1,2,3,4]\n",
    "        - E2:\n",
    "            - Input: list1 = [], list2 = []\n",
    "            - Output: []\n",
    "        - E3:\n",
    "            - Input: list1 = [], list2 = [0]\n",
    "            - Output: [0]\n",
    "    - Constraints/Solution Boundaries:\n",
    "        - 0 <= nodes in a LL <= 50\n",
    "        - -100 <= integers in LL <= 100\n",
    "\n",
    "\n",
    "\n",
    "\n",
    "\n",
    "    - There exists two linked lists\n",
    "    - \n",
    "\n",
    "\n",
    "\n",
    "### Top Down\n",
    "1. mergeTwoLists:\n",
    "    1.1. "
   ]
  },
  {
   "cell_type": "code",
   "execution_count": null,
   "id": "c22176b5",
   "metadata": {},
   "outputs": [],
   "source": [
    "@dataclass\n",
    "class ListNode:\n",
    "    def __init__(self, val: Optional[int] = None, next: Optional[\"ListNode\"] = None):\n",
    "        self.val = val\n",
    "        self.next = next\n",
    "\n",
    "\n",
    "@dataclass\n",
    "class LinkedList:\n",
    "    def __init__(self, head: Optional[ListNode] = None, tail: Optional[ListNode] = None):\n",
    "        self.head = head\n",
    "        self.tail = tail\n",
    "        self.current = None\n",
    "\n",
    "def _make_empty_node() -> ListNode:\n",
    "    return ListNode(val=0, next=None)\n",
    "\n",
    "def _make_node(value: int) -> ListNode:\n",
    "    return ListNode(val=value)\n",
    "\n",
    "def make_node(value: Optional[int]) -> ListNode:\n",
    "    if value is None:\n",
    "        return None\n",
    "    return ListNode(val=value)"
   ]
  }
 ],
 "metadata": {
  "language_info": {
   "name": "python"
  }
 },
 "nbformat": 4,
 "nbformat_minor": 5
}
